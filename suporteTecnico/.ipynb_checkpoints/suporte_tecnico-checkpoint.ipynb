{
 "cells": [
  {
   "cell_type": "markdown",
   "metadata": {},
   "source": [
    "# Transformando o Atendimento ao Cliente: Um Diagnóstico Baseado em Dados"
   ]
  },
  {
   "cell_type": "markdown",
   "metadata": {},
   "source": [
    "## O Desafio: Melhorando a Experiência do Cliente"
   ]
  },
  {
   "cell_type": "markdown",
   "metadata": {},
   "source": [
    "Uma grande empresa percebeu que sua reputação estava sendo afetada pela insatisfação dos clientes com o Serviço de Suporte. Os comentários nas redes sociais indicavam lentidão no atendimento e dificuldades na resolução de problemas. \n",
    "\n",
    "Para entender o que estava acontecendo, a empresa contratou uma consultoria especializada em análise de dados, buscando insights para transformar o suporte ao cliente em uma vantagem competitiva.\n",
    "\n",
    "A missão era clara: identificar as principais oportunidades de melhoria com base em evidências concretas. Para isso, foi realizada uma análise detalhada da base de dados dados_suporte_tecnico.xlsx, extraindo informações críticas sobre os tempos de atendimento, eficiência dos atendentes e padrões de distribuição dos chamados."
   ]
  },
  {
   "cell_type": "code",
   "execution_count": 1,
   "metadata": {},
   "outputs": [],
   "source": [
    "import pandas as pd\n",
    "import matplotlib.pyplot as plt\n",
    "import seaborn as sns"
   ]
  },
  {
   "cell_type": "code",
   "execution_count": 2,
   "metadata": {},
   "outputs": [
    {
     "data": {
      "text/plain": [
       "'1.2.5'"
      ]
     },
     "execution_count": 2,
     "metadata": {},
     "output_type": "execute_result"
    }
   ],
   "source": [
    "pd.__version__"
   ]
  },
  {
   "cell_type": "code",
   "execution_count": 3,
   "metadata": {},
   "outputs": [],
   "source": [
    "# Definir o número de casas decimais desejado\n",
    "\n",
    "pd.set_option('display.float_format', '{:.2f}'.format)"
   ]
  },
  {
   "cell_type": "markdown",
   "metadata": {
    "tags": []
   },
   "source": [
    "## Carregando os dados"
   ]
  },
  {
   "cell_type": "code",
   "execution_count": 4,
   "metadata": {},
   "outputs": [
    {
     "name": "stdout",
     "output_type": "stream",
     "text": [
      "<class 'pandas.core.frame.DataFrame'>\n",
      "RangeIndex: 3025 entries, 0 to 3024\n",
      "Data columns (total 12 columns):\n",
      " #   Column                         Non-Null Count  Dtype         \n",
      "---  ------                         --------------  -----         \n",
      " 0   ticket_id                      3025 non-null   int64         \n",
      " 1   inicio_atendimento             3025 non-null   datetime64[ns]\n",
      " 2   fim_atendimento                3025 non-null   datetime64[ns]\n",
      " 3   turno                          3025 non-null   object        \n",
      " 4   atendente_nome                 3025 non-null   object        \n",
      " 5   resolvido_na_primeira_chamada  3025 non-null   object        \n",
      " 6   conversao_atendimento          3025 non-null   object        \n",
      " 7   nota_csat                      3006 non-null   float64       \n",
      " 8   produto                        3025 non-null   object        \n",
      " 9   cliente                        3025 non-null   object        \n",
      " 10  ticket_reaberto                3025 non-null   object        \n",
      " 11  ticket_original                939 non-null    float64       \n",
      "dtypes: datetime64[ns](2), float64(2), int64(1), object(7)\n",
      "memory usage: 283.7+ KB\n"
     ]
    }
   ],
   "source": [
    "# Lendo os dados da planilha Excel\n",
    "\n",
    "df = pd.read_excel('Exercicio_suporte_tecnico.xlsx')\n",
    "df.info()"
   ]
  },
  {
   "cell_type": "code",
   "execution_count": 5,
   "metadata": {},
   "outputs": [
    {
     "data": {
      "text/html": [
       "<div>\n",
       "<style scoped>\n",
       "    .dataframe tbody tr th:only-of-type {\n",
       "        vertical-align: middle;\n",
       "    }\n",
       "\n",
       "    .dataframe tbody tr th {\n",
       "        vertical-align: top;\n",
       "    }\n",
       "\n",
       "    .dataframe thead th {\n",
       "        text-align: right;\n",
       "    }\n",
       "</style>\n",
       "<table border=\"1\" class=\"dataframe\">\n",
       "  <thead>\n",
       "    <tr style=\"text-align: right;\">\n",
       "      <th></th>\n",
       "      <th>ticket_id</th>\n",
       "      <th>inicio_atendimento</th>\n",
       "      <th>fim_atendimento</th>\n",
       "      <th>turno</th>\n",
       "      <th>atendente_nome</th>\n",
       "      <th>resolvido_na_primeira_chamada</th>\n",
       "      <th>conversao_atendimento</th>\n",
       "      <th>nota_csat</th>\n",
       "      <th>produto</th>\n",
       "      <th>cliente</th>\n",
       "      <th>ticket_reaberto</th>\n",
       "      <th>ticket_original</th>\n",
       "    </tr>\n",
       "  </thead>\n",
       "  <tbody>\n",
       "    <tr>\n",
       "      <th>0</th>\n",
       "      <td>1048</td>\n",
       "      <td>2023-12-01 06:00:00</td>\n",
       "      <td>2023-12-01 06:15:00</td>\n",
       "      <td>Manhã</td>\n",
       "      <td>Carla Souza</td>\n",
       "      <td>Sim</td>\n",
       "      <td>Sim</td>\n",
       "      <td>7.00</td>\n",
       "      <td>Serviço C</td>\n",
       "      <td>Empresa X</td>\n",
       "      <td>Não</td>\n",
       "      <td>NaN</td>\n",
       "    </tr>\n",
       "    <tr>\n",
       "      <th>1</th>\n",
       "      <td>436</td>\n",
       "      <td>2023-12-01 06:12:00</td>\n",
       "      <td>2023-12-01 06:18:00</td>\n",
       "      <td>Manhã</td>\n",
       "      <td>Ana Paula</td>\n",
       "      <td>Sim</td>\n",
       "      <td>Sim</td>\n",
       "      <td>4.00</td>\n",
       "      <td>Serviço C</td>\n",
       "      <td>Empresa Z</td>\n",
       "      <td>Não</td>\n",
       "      <td>NaN</td>\n",
       "    </tr>\n",
       "    <tr>\n",
       "      <th>2</th>\n",
       "      <td>1725</td>\n",
       "      <td>2023-12-01 06:18:00</td>\n",
       "      <td>2023-12-01 06:52:00</td>\n",
       "      <td>Manhã</td>\n",
       "      <td>Maria Fernandes</td>\n",
       "      <td>Não</td>\n",
       "      <td>Não</td>\n",
       "      <td>3.00</td>\n",
       "      <td>Produto B</td>\n",
       "      <td>Empresa Y</td>\n",
       "      <td>Sim</td>\n",
       "      <td>NaN</td>\n",
       "    </tr>\n",
       "    <tr>\n",
       "      <th>3</th>\n",
       "      <td>1186</td>\n",
       "      <td>2023-12-01 06:19:00</td>\n",
       "      <td>2023-12-01 06:56:00</td>\n",
       "      <td>Manhã</td>\n",
       "      <td>Carla Souza</td>\n",
       "      <td>Sim</td>\n",
       "      <td>Sim</td>\n",
       "      <td>4.00</td>\n",
       "      <td>Serviço C</td>\n",
       "      <td>Empresa X</td>\n",
       "      <td>Não</td>\n",
       "      <td>NaN</td>\n",
       "    </tr>\n",
       "    <tr>\n",
       "      <th>4</th>\n",
       "      <td>2683</td>\n",
       "      <td>2023-12-01 06:27:00</td>\n",
       "      <td>2023-12-01 06:50:00</td>\n",
       "      <td>Manhã</td>\n",
       "      <td>Ricardo Andrade</td>\n",
       "      <td>Não</td>\n",
       "      <td>Não</td>\n",
       "      <td>2.00</td>\n",
       "      <td>Produto A</td>\n",
       "      <td>Empresa Z</td>\n",
       "      <td>Não</td>\n",
       "      <td>NaN</td>\n",
       "    </tr>\n",
       "  </tbody>\n",
       "</table>\n",
       "</div>"
      ],
      "text/plain": [
       "   ticket_id  inicio_atendimento     fim_atendimento  turno   atendente_nome  \\\n",
       "0       1048 2023-12-01 06:00:00 2023-12-01 06:15:00  Manhã      Carla Souza   \n",
       "1        436 2023-12-01 06:12:00 2023-12-01 06:18:00  Manhã        Ana Paula   \n",
       "2       1725 2023-12-01 06:18:00 2023-12-01 06:52:00  Manhã  Maria Fernandes   \n",
       "3       1186 2023-12-01 06:19:00 2023-12-01 06:56:00  Manhã      Carla Souza   \n",
       "4       2683 2023-12-01 06:27:00 2023-12-01 06:50:00  Manhã  Ricardo Andrade   \n",
       "\n",
       "  resolvido_na_primeira_chamada conversao_atendimento  nota_csat    produto  \\\n",
       "0                           Sim                   Sim       7.00  Serviço C   \n",
       "1                           Sim                   Sim       4.00  Serviço C   \n",
       "2                           Não                   Não       3.00  Produto B   \n",
       "3                           Sim                   Sim       4.00  Serviço C   \n",
       "4                           Não                   Não       2.00  Produto A   \n",
       "\n",
       "     cliente ticket_reaberto  ticket_original  \n",
       "0  Empresa X             Não              NaN  \n",
       "1  Empresa Z             Não              NaN  \n",
       "2  Empresa Y             Sim              NaN  \n",
       "3  Empresa X             Não              NaN  \n",
       "4  Empresa Z             Não              NaN  "
      ]
     },
     "execution_count": 5,
     "metadata": {},
     "output_type": "execute_result"
    }
   ],
   "source": [
    "df.head()"
   ]
  },
  {
   "cell_type": "markdown",
   "metadata": {},
   "source": [
    "## Análise Univariada\n",
    "\n",
    "O primeiro indicador a ser analisado é o **Tempo Médio de Atendimento (TMA)**, uma medida calculada para computar a duração entre o momento do início e o final do contato do atendimento.  "
   ]
  },
  {
   "cell_type": "markdown",
   "metadata": {},
   "source": [
    "### a) O Tempo Médio de Atendimento (TMA) e os Quartis\n",
    "\n",
    "Uma das principais preocupações da empresa era entender quanto tempo seus clientes esperavam por uma solução. Para isso, utilizamos o conceito de quartis, buscando responder à seguinte questão:\n",
    "\n",
    "**Qual é o tempo de atendimento que separa os 25% dos tickets mais rápidos?**"
   ]
  },
  {
   "cell_type": "code",
   "execution_count": 6,
   "metadata": {},
   "outputs": [],
   "source": [
    "# Criando uma coluna para o cálculo do TMA\n",
    "\n",
    "df['TMA'] =  df['fim_atendimento'] - df['inicio_atendimento']"
   ]
  },
  {
   "cell_type": "code",
   "execution_count": 13,
   "metadata": {},
   "outputs": [
    {
     "data": {
      "text/plain": [
       "count                         3025\n",
       "mean     0 days 00:33:18.069421487\n",
       "std      0 days 00:17:15.480476207\n",
       "min                0 days 00:02:00\n",
       "25%                0 days 00:18:00\n",
       "50%                0 days 00:36:00\n",
       "75%                0 days 00:48:00\n",
       "max                0 days 01:00:00\n",
       "Name: TMA, dtype: object"
      ]
     },
     "execution_count": 13,
     "metadata": {},
     "output_type": "execute_result"
    }
   ],
   "source": [
    "# Estatística descritica básica - Medidas Resumo\n",
    "\n",
    "df['TMA'].describe()"
   ]
  },
  {
   "cell_type": "code",
   "execution_count": 14,
   "metadata": {},
   "outputs": [
    {
     "data": {
      "text/plain": [
       "<matplotlib.axes._subplots.AxesSubplot at 0x1f07fd36c40>"
      ]
     },
     "execution_count": 14,
     "metadata": {},
     "output_type": "execute_result"
    },
    {
     "data": {
      "image/png": "[encoded data removed]",
      "text/plain": [
       "<Figure size 640x480 with 1 Axes>"
      ]
     },
     "metadata": {},
     "output_type": "display_data"
    }
   ],
   "source": [
    "sns.distplot(df['TMA'])"
   ]
  },
  {
   "cell_type": "markdown",
   "metadata": {},
   "source": [
    "Os dados revelaram que 25% dos atendimentos mais rápidos são resolvidos abaixo de **18 minutos**.\n",
    "\n",
    "Isso significa que existe um grupo significativo de clientes que recebe um atendimento ágil. \n",
    "No entanto, o que acontece com os outros 75%? Essa discrepância pode indicar ineficiências no processo ou uma falta de padronização nos atendimentos."
   ]
  },
  {
   "cell_type": "markdown",
   "metadata": {},
   "source": [
    "### b) Tickets por turno de trabalho\n",
    "\n",
    "Outra questão relevante foi identificar se há concentração de chamados em algum período do dia. Ao analisar os dados, a consultoria descobriu que:"
   ]
  },
  {
   "cell_type": "code",
   "execution_count": 8,
   "metadata": {},
   "outputs": [
    {
     "data": {
      "text/html": [
       "<div>\n",
       "<style scoped>\n",
       "    .dataframe tbody tr th:only-of-type {\n",
       "        vertical-align: middle;\n",
       "    }\n",
       "\n",
       "    .dataframe tbody tr th {\n",
       "        vertical-align: top;\n",
       "    }\n",
       "\n",
       "    .dataframe thead th {\n",
       "        text-align: right;\n",
       "    }\n",
       "</style>\n",
       "<table border=\"1\" class=\"dataframe\">\n",
       "  <thead>\n",
       "    <tr style=\"text-align: right;\">\n",
       "      <th></th>\n",
       "      <th>Turno</th>\n",
       "      <th>Frequencia Absoluta</th>\n",
       "      <th>Frequencia Relativa</th>\n",
       "      <th>Frequencia Acumulada</th>\n",
       "    </tr>\n",
       "  </thead>\n",
       "  <tbody>\n",
       "    <tr>\n",
       "      <th>0</th>\n",
       "      <td>Noite</td>\n",
       "      <td>1289</td>\n",
       "      <td>42.61%</td>\n",
       "      <td>42.61%</td>\n",
       "    </tr>\n",
       "    <tr>\n",
       "      <th>1</th>\n",
       "      <td>Manhã</td>\n",
       "      <td>1022</td>\n",
       "      <td>33.79%</td>\n",
       "      <td>76.40%</td>\n",
       "    </tr>\n",
       "    <tr>\n",
       "      <th>2</th>\n",
       "      <td>Tarde</td>\n",
       "      <td>714</td>\n",
       "      <td>23.60%</td>\n",
       "      <td>100.00%</td>\n",
       "    </tr>\n",
       "  </tbody>\n",
       "</table>\n",
       "</div>"
      ],
      "text/plain": [
       "   Turno  Frequencia Absoluta Frequencia Relativa Frequencia Acumulada\n",
       "0  Noite                 1289              42.61%               42.61%\n",
       "1  Manhã                 1022              33.79%               76.40%\n",
       "2  Tarde                  714              23.60%              100.00%"
      ]
     },
     "execution_count": 8,
     "metadata": {},
     "output_type": "execute_result"
    }
   ],
   "source": [
    "# Frequencia de tickets por turno de trabalho\n",
    "\n",
    "tabela_frequencia_turno = df['turno'].value_counts().reset_index()\n",
    "tabela_frequencia_turno.columns = ['Turno', 'Frequencia Absoluta']\n",
    "\n",
    "tabela_frequencia_turno['Frequencia Relativa'] = (\n",
    "    100 * (tabela_frequencia_turno['Frequencia Absoluta'] / tabela_frequencia_turno['Frequencia Absoluta'].sum())\n",
    ").apply('{:.2f}%'.format)\n",
    "\n",
    "tabela_frequencia_turno['Frequencia Acumulada'] = (\n",
    "    tabela_frequencia_turno['Frequencia Absoluta'].cumsum() / tabela_frequencia_turno['Frequencia Absoluta'].sum() * 100\n",
    ").apply('{:.2f}%'.format)\n",
    "\n",
    "tabela_frequencia_turno"
   ]
  },
  {
   "cell_type": "markdown",
   "metadata": {},
   "source": [
    "42,6% dos chamados estão concentrados no turno da noite, o que corresponde a quase o dobro dos atendimentos durante o período da Tarde.\n",
    "\n",
    "Isso pode significar dois problemas:\n",
    "\n",
    "1. **Uma sobrecarga de atendentes nesse período, causando aumento no tempo médio de atendimento.**\n",
    "2. **Uma possível ineficiência na distribuição da equipe, com períodos de baixa demanda em que recursos estão subutilizados.**\n",
    "\n",
    "Essas informações permitiram uma reavaliação da escala de trabalho, equilibrando melhor a distribuição dos atendentes ao longo do dia."
   ]
  },
  {
   "cell_type": "markdown",
   "metadata": {},
   "source": [
    "### c) Frequência de Intervalos para TMA\n",
    "Para uma análise mais aprofundada, os tempos de atendimento foram classificados em três categorias:\n",
    "- Baixo (2:00 a 18:00 minutos) – Atendimento rápido e eficiente.\n",
    "- Médio (18:00 a 36:00 minutos) – Atendimento dentro da média, mas com espaço para otimização.\n",
    "- Alto (36:00 a 48:00 minutos) ou Muito Alto (48:00 a 60:00 minutos) – Atendimentos demorados que podem gerar insatisfação."
   ]
  },
  {
   "cell_type": "code",
   "execution_count": 9,
   "metadata": {
    "tags": []
   },
   "outputs": [
    {
     "data": {
      "text/html": [
       "<div>\n",
       "<style scoped>\n",
       "    .dataframe tbody tr th:only-of-type {\n",
       "        vertical-align: middle;\n",
       "    }\n",
       "\n",
       "    .dataframe tbody tr th {\n",
       "        vertical-align: top;\n",
       "    }\n",
       "\n",
       "    .dataframe thead th {\n",
       "        text-align: right;\n",
       "    }\n",
       "</style>\n",
       "<table border=\"1\" class=\"dataframe\">\n",
       "  <thead>\n",
       "    <tr style=\"text-align: right;\">\n",
       "      <th></th>\n",
       "      <th>Classificação</th>\n",
       "      <th>Frequência Absoluta</th>\n",
       "      <th>Frequência Relativa</th>\n",
       "      <th>Limite Inferior</th>\n",
       "      <th>Limite Superior</th>\n",
       "    </tr>\n",
       "  </thead>\n",
       "  <tbody>\n",
       "    <tr>\n",
       "      <th>0</th>\n",
       "      <td>Baixo</td>\n",
       "      <td>786</td>\n",
       "      <td>25.98%</td>\n",
       "      <td>0 days 00:02:00</td>\n",
       "      <td>0 days 00:18:00</td>\n",
       "    </tr>\n",
       "    <tr>\n",
       "      <th>1</th>\n",
       "      <td>Médio</td>\n",
       "      <td>755</td>\n",
       "      <td>24.96%</td>\n",
       "      <td>0 days 00:18:00</td>\n",
       "      <td>0 days 00:36:00</td>\n",
       "    </tr>\n",
       "    <tr>\n",
       "      <th>2</th>\n",
       "      <td>Alto</td>\n",
       "      <td>751</td>\n",
       "      <td>24.83%</td>\n",
       "      <td>0 days 00:36:00</td>\n",
       "      <td>0 days 00:48:00</td>\n",
       "    </tr>\n",
       "    <tr>\n",
       "      <th>3</th>\n",
       "      <td>Muito Alto</td>\n",
       "      <td>733</td>\n",
       "      <td>24.23%</td>\n",
       "      <td>0 days 00:48:00</td>\n",
       "      <td>0 days 01:00:00</td>\n",
       "    </tr>\n",
       "  </tbody>\n",
       "</table>\n",
       "</div>"
      ],
      "text/plain": [
       "  Classificação  Frequência Absoluta Frequência Relativa Limite Inferior  \\\n",
       "0         Baixo                  786              25.98% 0 days 00:02:00   \n",
       "1         Médio                  755              24.96% 0 days 00:18:00   \n",
       "2          Alto                  751              24.83% 0 days 00:36:00   \n",
       "3    Muito Alto                  733              24.23% 0 days 00:48:00   \n",
       "\n",
       "  Limite Superior  \n",
       "0 0 days 00:18:00  \n",
       "1 0 days 00:36:00  \n",
       "2 0 days 00:48:00  \n",
       "3 0 days 01:00:00  "
      ]
     },
     "execution_count": 9,
     "metadata": {},
     "output_type": "execute_result"
    }
   ],
   "source": [
    "# Calculando os quartis\n",
    "\n",
    "q1 = df['TMA'].quantile(0.25)\n",
    "q2 = df['TMA'].quantile(0.50)\n",
    "q3 = df['TMA'].quantile(0.75)\n",
    "\n",
    "# Criando os intervalos de classificação baseados nos quartis\n",
    "\n",
    "df['Classificação'] = pd.cut(\n",
    "    df['TMA'], bins=[df['TMA'].min(), q1, q2, q3, df['TMA'].max()], \n",
    "    labels=['Baixo', 'Médio', 'Alto', 'Muito Alto'], \n",
    "    include_lowest=True\n",
    ")\n",
    "\n",
    "# Criando a tabela de frequência dos intervalos de classificação e incluindo os valores dos quartis\n",
    "\n",
    "tabela_classificacao_TMA = df['Classificação'].value_counts().reset_index()\n",
    "tabela_classificacao_TMA.columns = ['Classificação', 'Frequência Absoluta']\n",
    "tabela_classificacao_TMA['Frequência Relativa'] = (\n",
    "    100 * tabela_classificacao_TMA['Frequência Absoluta'] / tabela_classificacao_TMA['Frequência Absoluta'].sum()\n",
    ").apply('{:.2f}%'.format)\n",
    "\n",
    "# Adicionando os valores dos quartis correspondentes\n",
    "\n",
    "quartis_df = pd.DataFrame({\n",
    "    'Classificação': ['Baixo', 'Médio', 'Alto', 'Muito Alto'], \n",
    "    'Limite Inferior': [df['TMA'].min(), q1, q2, q3],\n",
    "    'Limite Superior': [q1, q2, q3, df['TMA'].max()]\n",
    "})\n",
    "\n",
    "# Mesclando a tabela existente com os valores dos quartis\n",
    "\n",
    "tabela_classificacao_TMA = tabela_classificacao_TMA.merge(quartis_df, on='Classificação', how='left')\n",
    "\n",
    "tabela_classificacao_TMA"
   ]
  },
  {
   "cell_type": "markdown",
   "metadata": {},
   "source": [
    "**Os insights foram claros:**\n",
    "\n",
    "49,06% dos chamados pertencem ao grupo \"Alto\" ou \"Muito Alto\", o que significa que uma parte relevante dos clientes está enfrentando longos tempos de espera. \n",
    "\n",
    "Alguns atendentes consistentemente apresentam tempos de atendimento elevados, o que pode indicar necessidade de treinamento adicional ou redistribuição de tarefas.\n",
    "\n",
    "Isso levou a empresa a repensar seus processos internos, implementando ações para reduzir os tempos médios nos atendimentos mais demorados."
   ]
  },
  {
   "cell_type": "markdown",
   "metadata": {},
   "source": [
    "### d) Taxa de Conversão de Atendimento\n",
    "\n",
    "Assim como o Tempo Médio de Atendimento, analisamos a Taxa de Conversão de Atendimento – ou seja, quantos chamados foram resolvidos com sucesso."
   ]
  },
  {
   "cell_type": "code",
   "execution_count": 10,
   "metadata": {
    "tags": []
   },
   "outputs": [
    {
     "data": {
      "text/plain": [
       "Não    51.21%\n",
       "Sim    48.79%\n",
       "Name: conversao_atendimento, dtype: object"
      ]
     },
     "execution_count": 10,
     "metadata": {},
     "output_type": "execute_result"
    }
   ],
   "source": [
    "(df['conversao_atendimento'].value_counts()*100/df['conversao_atendimento'].count()).apply('{:.2f}%'.format)"
   ]
  },
  {
   "cell_type": "markdown",
   "metadata": {},
   "source": [
    "**Principais descobertas:**\n",
    "\n",
    "- Atendentes com menor TMA tendem a apresentar maiores taxas de conversão.\n",
    "\n",
    "- Já os chamados com tempos elevados têm menor taxa de conversão, sugerindo que clientes que aguardam muito tempo podem perder a paciência e buscar outras soluções.\n",
    "\n",
    "Esse dado reforçou a necessidade de equilibrar **eficiência e qualidade**, garantindo que um atendimento rápido também seja eficaz."
   ]
  },
  {
   "cell_type": "markdown",
   "metadata": {},
   "source": [
    "### e) Frequência de Atendimentos por Atendente\n",
    "\n",
    "Por fim, analisamos a frequência de chamados por atendente para identificar padrões de desempenho."
   ]
  },
  {
   "cell_type": "code",
   "execution_count": 11,
   "metadata": {},
   "outputs": [
    {
     "data": {
      "text/html": [
       "<div>\n",
       "<style scoped>\n",
       "    .dataframe tbody tr th:only-of-type {\n",
       "        vertical-align: middle;\n",
       "    }\n",
       "\n",
       "    .dataframe tbody tr th {\n",
       "        vertical-align: top;\n",
       "    }\n",
       "\n",
       "    .dataframe thead th {\n",
       "        text-align: right;\n",
       "    }\n",
       "</style>\n",
       "<table border=\"1\" class=\"dataframe\">\n",
       "  <thead>\n",
       "    <tr style=\"text-align: right;\">\n",
       "      <th></th>\n",
       "      <th>Atendente</th>\n",
       "      <th>Frequência Absoluta</th>\n",
       "      <th>Frequência Relativa</th>\n",
       "    </tr>\n",
       "  </thead>\n",
       "  <tbody>\n",
       "    <tr>\n",
       "      <th>0</th>\n",
       "      <td>Lucas Martins</td>\n",
       "      <td>524</td>\n",
       "      <td>17.32%</td>\n",
       "    </tr>\n",
       "    <tr>\n",
       "      <th>1</th>\n",
       "      <td>Ana Paula</td>\n",
       "      <td>512</td>\n",
       "      <td>16.93%</td>\n",
       "    </tr>\n",
       "    <tr>\n",
       "      <th>2</th>\n",
       "      <td>João Silva</td>\n",
       "      <td>508</td>\n",
       "      <td>16.79%</td>\n",
       "    </tr>\n",
       "    <tr>\n",
       "      <th>3</th>\n",
       "      <td>Maria Fernandes</td>\n",
       "      <td>507</td>\n",
       "      <td>16.76%</td>\n",
       "    </tr>\n",
       "    <tr>\n",
       "      <th>4</th>\n",
       "      <td>Carla Souza</td>\n",
       "      <td>501</td>\n",
       "      <td>16.56%</td>\n",
       "    </tr>\n",
       "    <tr>\n",
       "      <th>5</th>\n",
       "      <td>Ricardo Andrade</td>\n",
       "      <td>473</td>\n",
       "      <td>15.64%</td>\n",
       "    </tr>\n",
       "  </tbody>\n",
       "</table>\n",
       "</div>"
      ],
      "text/plain": [
       "         Atendente  Frequência Absoluta Frequência Relativa\n",
       "0    Lucas Martins                  524              17.32%\n",
       "1        Ana Paula                  512              16.93%\n",
       "2       João Silva                  508              16.79%\n",
       "3  Maria Fernandes                  507              16.76%\n",
       "4      Carla Souza                  501              16.56%\n",
       "5  Ricardo Andrade                  473              15.64%"
      ]
     },
     "execution_count": 11,
     "metadata": {},
     "output_type": "execute_result"
    }
   ],
   "source": [
    "# Frequencia absoluta e Relativa\n",
    "\n",
    "tabela_frequencia_atendente = df['atendente_nome'].value_counts().reset_index()\n",
    "tabela_frequencia_atendente.columns = ['Atendente', 'Frequência Absoluta']\n",
    "tabela_frequencia_atendente['Frequência Relativa'] = (\n",
    "    100 * (tabela_frequencia_atendente['Frequência Absoluta'] / tabela_frequencia_atendente['Frequência Absoluta'].sum())\n",
    ").apply('{:.2f}%'.format)\n",
    "\n",
    "tabela_frequencia_atendente"
   ]
  },
  {
   "cell_type": "markdown",
   "metadata": {},
   "source": [
    "Existe um equilibrio entre os atendentes, a não ser por uma pequena maior participação de Lucas (17,32%) e uma menor de Ricardo (15,64%)."
   ]
  },
  {
   "cell_type": "markdown",
   "metadata": {
    "tags": []
   },
   "source": [
    "## Conclusão: O Caminho para a Transformação do Suporte ao Cliente\n",
    "Após essa análise detalhada, a empresa pôde visualizar claramente onde estavam os **principais pontos de melhoria** no atendimento ao cliente.\n",
    "\n",
    "✅ **Redesenho das escalas para balancear melhor os períodos de pico.**\n",
    "\n",
    "✅ **Treinamento personalizado para atendentes com baixa conversão.**\n",
    "\n",
    "✅ **Revisão dos processos internos para reduzir tempos de atendimento sem comprometer a qualidade.**\n",
    "\n",
    "Com essas ações, a empresa começou a reverter sua imagem negativa, proporcionando um suporte mais **eficiente** e aumentando a **satisfação** dos clientes."
   ]
  }
 ],
 "metadata": {
  "kernelspec": {
   "display_name": "Python 3 (ipykernel)",
   "language": "python",
   "name": "python3"
  },
  "language_info": {
   "codemirror_mode": {
    "name": "ipython",
    "version": 3
   },
   "file_extension": ".py",
   "mimetype": "text/x-python",
   "name": "python",
   "nbconvert_exporter": "python",
   "pygments_lexer": "ipython3",
   "version": "3.8.3"
  }
 },
 "nbformat": 4,
 "nbformat_minor": 4
}
